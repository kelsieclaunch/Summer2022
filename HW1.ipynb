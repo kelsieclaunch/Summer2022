{
 "cells": [
  {
   "cell_type": "markdown",
   "metadata": {},
   "source": [
    "# Part 1\n",
    "Kelsie Claunch\n",
    "u1380118\n",
    "May 27, 2022\n",
    "CS6017\n",
    "HW1\n"
   ]
  },
  {
   "cell_type": "code",
   "execution_count": null,
   "metadata": {},
   "outputs": [],
   "source": [
    "# Create an array of 100 random numbers using the Numpy random function\n",
    "import numpy as np\n",
    "import math \n",
    "from scipy.stats import norm\n",
    "myInts = np.random.randint(0, 100, size=100, dtype=int)\n",
    "moreInts = np.random.randint(0, 100, size=10000, dtype=int)\n"
   ]
  },
  {
   "cell_type": "code",
   "execution_count": null,
   "metadata": {},
   "outputs": [],
   "source": [
    "# Write functions to compute the mean and std dev of a numpy data array\n",
    "def myMean(myList):\n",
    "    listLen = len(myList)\n",
    "    listMean = sum(myList)/listLen\n",
    "    return listMean\n",
    "\n",
    "def myStDev(myList):\n",
    "    totalSum = 0\n",
    "    listLen = len(myList)\n",
    "    listMean = sum(myList)/listLen\n",
    "    for num in myList:\n",
    "        newAdd = ((myList[num] - listMean)*(myList[num] - listMean))\n",
    "        totalSum += newAdd\n",
    "    totalToSqrt = (totalSum/(listLen - 1))\n",
    "    stdDev = (math.sqrt(totalToSqrt))\n",
    "    return stdDev\n",
    "\n",
    "\n",
    "\n",
    "#verify your functions work\n",
    "print(myMean(myInts))\n",
    "print(np.average(myInts))\n",
    "print(myStDev(myInts))\n",
    "print(np.std(myInts))\n",
    "\n",
    "\n",
    "print(myMean(moreInts))\n",
    "print(np.average(moreInts))\n",
    "print(myStDev(moreInts))\n",
    "print(np.std(moreInts))\n",
    "\n",
    "\n",
    "#When I run the functions multiple times, the results of the larger list seems to vary less than the smaller list does \n",
    "\n"
   ]
  },
  {
   "cell_type": "markdown",
   "metadata": {},
   "source": []
  },
  {
   "cell_type": "code",
   "execution_count": null,
   "metadata": {},
   "outputs": [],
   "source": [
    "\n",
    "#use scipy.stats.norm to create an array of data\n",
    "scipyList = norm.rvs(size=10000)\n",
    "\n",
    "print(myMean(scipyList))\n",
    "print(np.average(scipyList))\n",
    "#print(myStDev(scipyList))\n",
    "print(np.std(scipyList))\n",
    "\n",
    "#the mean is always very close to 0, and the std dev is always very close to 1\n",
    "\n",
    "\n"
   ]
  },
  {
   "cell_type": "code",
   "execution_count": null,
   "metadata": {},
   "outputs": [],
   "source": [
    "#plot a histogram of your samples\n",
    "import matplotlib.pyplot as plt\n",
    "_ = plt.hist(scipyList, bins = 10)\n",
    "_ = plt.hist(scipyList, bins = 20)\n",
    "_ = plt.hist(scipyList, bins = 40)"
   ]
  },
  {
   "cell_type": "markdown",
   "metadata": {},
   "source": [
    "# Part 2: Data Exploration/Analysis"
   ]
  },
  {
   "cell_type": "code",
   "execution_count": null,
   "metadata": {},
   "outputs": [],
   "source": [
    "#read in CSV\n",
    "import pandas as pd\n",
    "import datetime as dt\n",
    "myFile = pd.read_csv('2021-PM2.5.csv',  usecols=[0,1] )"
   ]
  },
  {
   "cell_type": "code",
   "execution_count": null,
   "metadata": {},
   "outputs": [],
   "source": [
    "#sort by month\n",
    "myFile.index = pd.to_datetime(myFile['Date']).dt.to_period('M')\n",
    "by_month = myFile.groupby(lambda x: x.month).agg(np.mean)\n",
    "#by_month\n",
    "_ = by_month.plot(kind=\"bar\")"
   ]
  },
  {
   "cell_type": "code",
   "execution_count": null,
   "metadata": {},
   "outputs": [],
   "source": [
    "#sort by hour\n",
    "myFile.index = pd.to_datetime(myFile['Date']).dt.to_period('H')\n",
    "by_hour = myFile.groupby(lambda x: x.hour).agg(np.mean)\n",
    "#by_hour\n",
    "_ = by_hour.plot(kind=\"bar\")\n"
   ]
  },
  {
   "cell_type": "code",
   "execution_count": null,
   "metadata": {},
   "outputs": [],
   "source": [
    "#month boxplot\n",
    "_ = by_month.boxplot(showfliers=True)"
   ]
  },
  {
   "cell_type": "code",
   "execution_count": null,
   "metadata": {},
   "outputs": [],
   "source": [
    "#hour boxplot\n",
    "\n",
    "_ = by_hour.boxplot(showfliers=False)"
   ]
  },
  {
   "cell_type": "code",
   "execution_count": null,
   "metadata": {},
   "outputs": [],
   "source": []
  }
 ],
 "metadata": {
  "interpreter": {
   "hash": "b0fa6594d8f4cbf19f97940f81e996739fb7646882a419484c72d19e05852a7e"
  },
  "kernelspec": {
   "display_name": "Python 3.9.12 64-bit",
   "language": "python",
   "name": "python3"
  },
  "language_info": {
   "codemirror_mode": {
    "name": "ipython",
    "version": 3
   },
   "file_extension": ".py",
   "mimetype": "text/x-python",
   "name": "python",
   "nbconvert_exporter": "python",
   "pygments_lexer": "ipython3",
   "version": "3.9.13"
  }
 },
 "nbformat": 4,
 "nbformat_minor": 2
}
